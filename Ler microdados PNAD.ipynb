{
 "cells": [
  {
   "cell_type": "code",
   "execution_count": 1,
   "id": "a8e0af25",
   "metadata": {},
   "outputs": [
    {
     "name": "stderr",
     "output_type": "stream",
     "text": [
      "C:\\Users\\marce\\anaconda3\\lib\\site-packages\\numpy\\_distributor_init.py:30: UserWarning: loaded more than 1 DLL from .libs:\n",
      "C:\\Users\\marce\\anaconda3\\lib\\site-packages\\numpy\\.libs\\libopenblas.4SP5SUA7CBGXUEOC35YP2ASOICYYEQZZ.gfortran-win_amd64.dll\n",
      "C:\\Users\\marce\\anaconda3\\lib\\site-packages\\numpy\\.libs\\libopenblas64__v0.3.21-gcc_10_3_0.dll\n",
      "  warnings.warn(\"loaded more than 1 DLL from .libs:\"\n"
     ]
    }
   ],
   "source": [
    "import pandas as pd\n",
    "import numpy as np"
   ]
  },
  {
   "cell_type": "code",
   "execution_count": 5,
   "id": "a136f597",
   "metadata": {},
   "outputs": [
    {
     "data": {
      "text/html": [
       "<div>\n",
       "<style scoped>\n",
       "    .dataframe tbody tr th:only-of-type {\n",
       "        vertical-align: middle;\n",
       "    }\n",
       "\n",
       "    .dataframe tbody tr th {\n",
       "        vertical-align: top;\n",
       "    }\n",
       "\n",
       "    .dataframe thead th {\n",
       "        text-align: right;\n",
       "    }\n",
       "</style>\n",
       "<table border=\"1\" class=\"dataframe\">\n",
       "  <thead>\n",
       "    <tr style=\"text-align: right;\">\n",
       "      <th></th>\n",
       "      <th>Posição inicial</th>\n",
       "      <th>Tamanho</th>\n",
       "      <th>Código\\nda\\nvariável</th>\n",
       "      <th>Quesito</th>\n",
       "      <th>Unnamed: 4</th>\n",
       "      <th>Categorias</th>\n",
       "      <th>Unnamed: 6</th>\n",
       "      <th>Período</th>\n",
       "    </tr>\n",
       "  </thead>\n",
       "  <tbody>\n",
       "    <tr>\n",
       "      <th>0</th>\n",
       "      <td>1</td>\n",
       "      <td>4.0</td>\n",
       "      <td>Ano</td>\n",
       "      <td>NaN</td>\n",
       "      <td>Ano de referência</td>\n",
       "      <td>NaN</td>\n",
       "      <td>NaN</td>\n",
       "      <td>1º tri/2012 - atual</td>\n",
       "    </tr>\n",
       "    <tr>\n",
       "      <th>1</th>\n",
       "      <td>5</td>\n",
       "      <td>1.0</td>\n",
       "      <td>Trimestre</td>\n",
       "      <td>NaN</td>\n",
       "      <td>Trimestre de referência</td>\n",
       "      <td>1 a 4</td>\n",
       "      <td>Número do trimestre (1 a 4)</td>\n",
       "      <td>1º tri/2012 - atual</td>\n",
       "    </tr>\n",
       "    <tr>\n",
       "      <th>2</th>\n",
       "      <td>6</td>\n",
       "      <td>2.0</td>\n",
       "      <td>UF</td>\n",
       "      <td>NaN</td>\n",
       "      <td>Unidade da Federação</td>\n",
       "      <td>11</td>\n",
       "      <td>Rondônia</td>\n",
       "      <td>1º tri/2012 - atual</td>\n",
       "    </tr>\n",
       "    <tr>\n",
       "      <th>3</th>\n",
       "      <td>NaN</td>\n",
       "      <td>NaN</td>\n",
       "      <td>NaN</td>\n",
       "      <td>NaN</td>\n",
       "      <td>NaN</td>\n",
       "      <td>12</td>\n",
       "      <td>Acre</td>\n",
       "      <td>NaN</td>\n",
       "    </tr>\n",
       "    <tr>\n",
       "      <th>4</th>\n",
       "      <td>NaN</td>\n",
       "      <td>NaN</td>\n",
       "      <td>NaN</td>\n",
       "      <td>NaN</td>\n",
       "      <td>NaN</td>\n",
       "      <td>13</td>\n",
       "      <td>Amazonas</td>\n",
       "      <td>NaN</td>\n",
       "    </tr>\n",
       "  </tbody>\n",
       "</table>\n",
       "</div>"
      ],
      "text/plain": [
       "  Posição inicial   Tamanho Código\\nda\\nvariável Quesito  \\\n",
       "0                1      4.0                  Ano     NaN   \n",
       "1                5      1.0            Trimestre     NaN   \n",
       "2                6      2.0                   UF     NaN   \n",
       "3              NaN      NaN                  NaN     NaN   \n",
       "4              NaN      NaN                  NaN     NaN   \n",
       "\n",
       "                Unnamed: 4 Categorias                   Unnamed: 6  \\\n",
       "0        Ano de referência        NaN                          NaN   \n",
       "1  Trimestre de referência      1 a 4  Número do trimestre (1 a 4)   \n",
       "2     Unidade da Federação         11                     Rondônia   \n",
       "3                      NaN         12                         Acre   \n",
       "4                      NaN         13                     Amazonas   \n",
       "\n",
       "               Período  \n",
       "0  1º tri/2012 - atual  \n",
       "1  1º tri/2012 - atual  \n",
       "2  1º tri/2012 - atual  \n",
       "3                  NaN  \n",
       "4                  NaN  "
      ]
     },
     "execution_count": 5,
     "metadata": {},
     "output_type": "execute_result"
    }
   ],
   "source": [
    "#Ler dicionário das variáveis do arquivo xlsx\n",
    "\n",
    "dict = pd.read_excel ('dicionario_PNADC_microdados_trimestral.xls', skiprows=[0,2,3])\n",
    "dict.head(5)"
   ]
  },
  {
   "cell_type": "code",
   "execution_count": 6,
   "id": "5a2cfe91",
   "metadata": {},
   "outputs": [],
   "source": [
    "# Mudar o nomes das colunas devido o espaço entre os nomes\n",
    "\n",
    "dict.columns = ['Posição_inicial','Tamanho' ,'Variável','Descrição', 'Unnamed:4', 'Categorias','Unnamed:6','Período']\n",
    "\n",
    "dict = dict.dropna ( subset = ['Variável'])"
   ]
  },
  {
   "cell_type": "code",
   "execution_count": null,
   "id": "e44054aa",
   "metadata": {},
   "outputs": [],
   "source": [
    "tamanho = list(dict['Tamanho'])\n",
    "largura = [int(valor) for valor in tamanho]\n",
    "\n",
    "df_pnad_1Tri_2023 = pd.read_fwf('PNADC_012023.txt', widths = largura, dtype = str)"
   ]
  },
  {
   "cell_type": "code",
   "execution_count": null,
   "id": "906a5648",
   "metadata": {},
   "outputs": [],
   "source": [
    "df_pnad_2Tri_2023 = pd.read_fwf('PNADC_022023.txt', widths = largura, dtype=str)"
   ]
  },
  {
   "cell_type": "code",
   "execution_count": null,
   "id": "6ae8c401",
   "metadata": {},
   "outputs": [],
   "source": [
    "df_pnad_2023 = pd.concat([df_pnad_1Tri_2023,df_pnad_2Tri_2023 ])\n",
    "df_pnad_2023.head(5)"
   ]
  },
  {
   "cell_type": "code",
   "execution_count": null,
   "id": "b01e096e",
   "metadata": {},
   "outputs": [],
   "source": [
    "df_pnad_1Tri_2023.columns = dict['Variável']\n",
    "df_pnad_1Tri_2023.head(5)"
   ]
  },
  {
   "cell_type": "code",
   "execution_count": null,
   "id": "a29271d8",
   "metadata": {},
   "outputs": [],
   "source": [
    "uf_cod = {'UF':{'11':'Rondônia',\n",
    "                '12':'Acre',\n",
    "                '13': 'Amazonas',\n",
    "                '14':'Roraima',\n",
    "                '15':'Pará',\n",
    "                '16':'Amapá',\n",
    "                '17':'Tocantins',\n",
    "                '21':'Maranhão',\n",
    "                '22':'Piauí',\n",
    "                '23':'Ceará',\n",
    "                '24':'Rio Grande do Norte',\n",
    "                '25':'Paraíba',\n",
    "                '26':'Pernambuco',\n",
    "                '27':'Alagoas',\n",
    "                '28':'Sergipe',\n",
    "                '29':'Bahia',\n",
    "                '31':'Minas Gerais',\n",
    "                '32':'Espírito Santo',\n",
    "                '33':'Rio de Janeiro',\n",
    "                '35':'São Paulo',\n",
    "                '41':'Paraná',\n",
    "                '42':'Santa Catarina',\n",
    "                '43':'Rio Grande do Sul',\n",
    "                '50':'Mato Grosso do Sul',\n",
    "                '51':'Mato Grosso',\n",
    "                '52':'Goiás',\n",
    "                '53':'Distrito Federal'}}"
   ]
  },
  {
   "cell_type": "code",
   "execution_count": null,
   "id": "c0d733dc",
   "metadata": {},
   "outputs": [],
   "source": [
    "df_pnad_1Tri_2023.replace(uf_cod, inplace = True)"
   ]
  },
  {
   "cell_type": "code",
   "execution_count": null,
   "id": "24284c12",
   "metadata": {},
   "outputs": [],
   "source": [
    "df_pnad_1Tri_2023.head(5)"
   ]
  },
  {
   "cell_type": "code",
   "execution_count": null,
   "id": "4fd9d7b8",
   "metadata": {},
   "outputs": [],
   "source": [
    "df_pnad_1Tri_2023['UF'].value_counts()"
   ]
  }
 ],
 "metadata": {
  "kernelspec": {
   "display_name": "Python 3 (ipykernel)",
   "language": "python",
   "name": "python3"
  },
  "language_info": {
   "codemirror_mode": {
    "name": "ipython",
    "version": 3
   },
   "file_extension": ".py",
   "mimetype": "text/x-python",
   "name": "python",
   "nbconvert_exporter": "python",
   "pygments_lexer": "ipython3",
   "version": "3.8.16"
  }
 },
 "nbformat": 4,
 "nbformat_minor": 5
}
